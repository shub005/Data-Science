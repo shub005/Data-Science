{
 "cells": [
  {
   "cell_type": "markdown",
   "metadata": {},
   "source": [
    "<img src=\"https://upgrad.com/images/upgradlogo.png\" alt=\"Drawing\" style=\"width: 200px;\"/>"
   ]
  },
  {
   "cell_type": "markdown",
   "metadata": {},
   "source": [
    "# Control Flow Statements"
   ]
  },
  {
   "cell_type": "markdown",
   "metadata": {},
   "source": [
    "The primary objective is to help you get familiarized with the syntax. The flow will be pretty much similar to R and we will be doing some examples as well."
   ]
  },
  {
   "cell_type": "markdown",
   "metadata": {},
   "source": [
    "## If"
   ]
  },
  {
   "cell_type": "markdown",
   "metadata": {},
   "source": [
    "if some_condition:\n",
    "    \n",
    "    algorithm"
   ]
  },
  {
   "cell_type": "markdown",
   "metadata": {},
   "source": [
    "- The syntax for control structures in Python use _colons_ and _indentation_.\n",
    "\n",
    "- Beware that white-space affects the semantics of Python code.\n",
    "\n"
   ]
  },
  {
   "cell_type": "code",
   "execution_count": 1,
   "metadata": {},
   "outputs": [
    {
     "name": "stdout",
     "output_type": "stream",
     "text": [
      "The value of x is 12\n"
     ]
    }
   ],
   "source": [
    "x = 12\n",
    "if x >10:\n",
    "    print(\"The value of x is \" + str(x))"
   ]
  },
  {
   "cell_type": "markdown",
   "metadata": {},
   "source": [
    "## If-else"
   ]
  },
  {
   "cell_type": "markdown",
   "metadata": {},
   "source": [
    "if some_condition:\n",
    "    \n",
    "    algorithm\n",
    "    \n",
    "else:\n",
    "    \n",
    "    algorithm"
   ]
  },
  {
   "cell_type": "code",
   "execution_count": 2,
   "metadata": {},
   "outputs": [
    {
     "name": "stdout",
     "output_type": "stream",
     "text": [
      "X is greater than 10\n"
     ]
    }
   ],
   "source": [
    "x = 12\n",
    "if x > 10:\n",
    "    print(\"X is greater than 10\")\n",
    "else:\n",
    "    print(\"X is less than 10\")"
   ]
  },
  {
   "cell_type": "markdown",
   "metadata": {},
   "source": [
    "## if-elif"
   ]
  },
  {
   "cell_type": "markdown",
   "metadata": {},
   "source": [
    "if some_condition:\n",
    "    \n",
    "    algorithm\n",
    "\n",
    "elif some_condition:\n",
    "    \n",
    "    algorithm\n",
    "\n",
    "else:\n",
    "    \n",
    "    algorithm"
   ]
  },
  {
   "cell_type": "code",
   "execution_count": 3,
   "metadata": {},
   "outputs": [
    {
     "name": "stdout",
     "output_type": "stream",
     "text": [
      "X is less than Y\n"
     ]
    }
   ],
   "source": [
    "x = 10\n",
    "y = 12\n",
    "if x > y:\n",
    "    print(\"X is greater than Y\")\n",
    "elif x < y:\n",
    "    print(\"X is less than Y\")\n",
    "else:\n",
    "    print(\"X is equal to Y\")"
   ]
  },
  {
   "cell_type": "markdown",
   "metadata": {},
   "source": [
    "if statement inside a if statement or if-elif or if-else are called as nested if statements."
   ]
  },
  {
   "cell_type": "markdown",
   "metadata": {},
   "source": [
    "Q. Write an if-else statement to print \"Is Palindrome\" in case a word is a palindrome, else print \"Not a palindrome\". A palindrome is a word that is the spelled the same backwards, for example - Malayalam , Radar."
   ]
  },
  {
   "cell_type": "code",
   "execution_count": 4,
   "metadata": {},
   "outputs": [
    {
     "name": "stdout",
     "output_type": "stream",
     "text": [
      "Enter a word : santosh\n",
      "Not a palindrome\n"
     ]
    }
   ],
   "source": [
    "#Solution:\n",
    "input_word = input('Enter a word : ')\n",
    "if input_word[::-1].lower().strip() == input_word.lower().strip():\n",
    "    print(\"Is a palindrome\")\n",
    "else:\n",
    "    print(\"Not a palindrome\")"
   ]
  },
  {
   "cell_type": "markdown",
   "metadata": {},
   "source": [
    "We have added a .strip() and .lower() to account for whitespaces entered by mistake and .lower() to homogenize the text. It is a good to use them often. "
   ]
  },
  {
   "cell_type": "code",
   "execution_count": null,
   "metadata": {
    "collapsed": true
   },
   "outputs": [],
   "source": []
  },
  {
   "cell_type": "markdown",
   "metadata": {},
   "source": [
    "## For Loops"
   ]
  },
  {
   "cell_type": "markdown",
   "metadata": {},
   "source": [
    "for variable in something:\n",
    "    \n",
    "    algorithm"
   ]
  },
  {
   "cell_type": "markdown",
   "metadata": {},
   "source": [
    "**Fixed iterations:** Iterations that are done a fixed number of times let's say 5, 100 and so on.\n",
    "\n",
    "**String Iterations:** Iterations happen over each character of the string.\n",
    "    \n",
    "**List Iterations:** Iterations happen over each item of a list. \n",
    "\n",
    "**Tuple Iterations:** Similar to list iterations.\n",
    "\n",
    "**Dictionary Iterations:** Iterations happen similar to a list but depend on what you want to iterate: key-value pairs / only keys / only values. \n",
    "\n",
    "**Enumerating:** Using enumerate you can also add another variable in the iteration to keep count of the loop\n"
   ]
  },
  {
   "cell_type": "code",
   "execution_count": 5,
   "metadata": {},
   "outputs": [
    {
     "name": "stdout",
     "output_type": "stream",
     "text": [
      "0\n",
      "1\n",
      "2\n",
      "3\n",
      "4\n"
     ]
    }
   ],
   "source": [
    "#Fixed Iterations\n",
    "\n",
    "#Range can take 1,2 or 3 arguments. If one is specified, it will start from zero and treat the argument as the end index.\n",
    "for i in range(5):\n",
    "    print(i)\n"
   ]
  },
  {
   "cell_type": "code",
   "execution_count": 6,
   "metadata": {},
   "outputs": [
    {
     "name": "stdout",
     "output_type": "stream",
     "text": [
      "0\n",
      "2\n",
      "4\n",
      "6\n",
      "8\n",
      "10\n",
      "12\n",
      "14\n",
      "16\n",
      "18\n",
      "20\n",
      "22\n",
      "24\n",
      "26\n",
      "28\n",
      "30\n",
      "32\n",
      "34\n",
      "36\n",
      "38\n",
      "40\n",
      "42\n",
      "44\n",
      "46\n",
      "48\n",
      "50\n",
      "52\n",
      "54\n",
      "56\n",
      "58\n",
      "60\n",
      "62\n",
      "64\n",
      "66\n",
      "68\n",
      "70\n",
      "72\n",
      "74\n",
      "76\n",
      "78\n",
      "80\n",
      "82\n",
      "84\n",
      "86\n",
      "88\n",
      "90\n",
      "92\n",
      "94\n",
      "96\n",
      "98\n"
     ]
    }
   ],
   "source": [
    "#range using 3 arguments. The thrid argument is the step size.\n",
    "for even_num in range(0,100,2):\n",
    "    print(even_num)"
   ]
  },
  {
   "cell_type": "raw",
   "metadata": {},
   "source": [
    "Q. Print all odd numbers between 21 and 121 excluding 121. Hint: A better solution would not make use of the if statement\n",
    "    \n",
    "Q. Print all numbers divisible by 5 between 100 and 200 including 200 itself. Hint: It is possible without an if statement\n",
    "    \n",
    "Q. Print all numbers between 300 and 500 that are divisible by 5 as well as 3. Hint: **and** is a good choice  \n",
    "\n",
    "Q. Write code snippets to print the following patterns:\n",
    "\n",
    "a.  Given an input, print as many lines as the number provided in the input and each successive line should have an extra asterisk.\n",
    "Eg: input =4\n",
    "*\n",
    "**\n",
    "***\n",
    "****\n",
    "\n",
    "b.\n",
    "*\n",
    "**\n",
    "*\n",
    "**\n",
    "*\n",
    "**\n",
    "*\n",
    "\n",
    "c.\n",
    "********\n",
    "******\n",
    "****\n",
    "**\n",
    "*\n",
    "\n",
    "d.\n",
    "***\n",
    "****\n",
    "*********\n",
    "********\n",
    "***************\n",
    "************"
   ]
  },
  {
   "cell_type": "code",
   "execution_count": 7,
   "metadata": {
    "collapsed": true
   },
   "outputs": [],
   "source": [
    "#Solution 1\n"
   ]
  },
  {
   "cell_type": "code",
   "execution_count": 8,
   "metadata": {
    "collapsed": true
   },
   "outputs": [],
   "source": [
    "#Solution 2\n"
   ]
  },
  {
   "cell_type": "code",
   "execution_count": 9,
   "metadata": {
    "collapsed": true
   },
   "outputs": [],
   "source": [
    "#Solution 3\n"
   ]
  },
  {
   "cell_type": "code",
   "execution_count": 10,
   "metadata": {
    "collapsed": true
   },
   "outputs": [],
   "source": [
    "#Pattern Printing Solution 4"
   ]
  },
  {
   "cell_type": "markdown",
   "metadata": {},
   "source": [
    "### Iterating Over Strings"
   ]
  },
  {
   "cell_type": "markdown",
   "metadata": {},
   "source": [
    "String iteration are pretty simple, we can use any variable name to iterate and eacch character is treated as an individual unit."
   ]
  },
  {
   "cell_type": "code",
   "execution_count": 11,
   "metadata": {},
   "outputs": [
    {
     "name": "stdout",
     "output_type": "stream",
     "text": [
      "T\n",
      "h\n",
      "i\n",
      "s\n",
      " \n",
      "i\n",
      "s\n",
      " \n",
      "m\n",
      "y\n",
      " \n",
      "f\n",
      "i\n",
      "r\n",
      "s\n",
      "t\n",
      " \n",
      "s\n",
      "t\n",
      "r\n",
      "i\n",
      "n\n",
      "g\n",
      " \n",
      "i\n",
      "t\n",
      "e\n",
      "r\n",
      "a\n",
      "t\n",
      "i\n",
      "o\n",
      "n\n",
      "!\n",
      "!\n"
     ]
    }
   ],
   "source": [
    "string_a = \"This is my first string iteration!!\"\n",
    "\n",
    "for char in string_a:\n",
    "    print(char)"
   ]
  },
  {
   "cell_type": "markdown",
   "metadata": {},
   "source": [
    "Easy, right? We can also use any name whilst iterating. Just make sure the name you are using isn't an inbuilt type name as that might lead to conflicts. You can run the following cell by uncommenting the following cell by selecting all and then Ctrl + ? . "
   ]
  },
  {
   "cell_type": "code",
   "execution_count": 12,
   "metadata": {},
   "outputs": [],
   "source": [
    "# for xyz in string_a:\n",
    "#     print(xyz)\n",
    "\n",
    "# for int in string_a:\n",
    "#     print(int)"
   ]
  },
  {
   "cell_type": "markdown",
   "metadata": {},
   "source": [
    "What if we want to iterate over each word? Remember that each word is seperated by a space. In such a case we need to use .split()"
   ]
  },
  {
   "cell_type": "code",
   "execution_count": 13,
   "metadata": {},
   "outputs": [
    {
     "name": "stdout",
     "output_type": "stream",
     "text": [
      "This\n",
      "is\n",
      "my\n",
      "first\n",
      "string\n",
      "iteration!!\n"
     ]
    }
   ],
   "source": [
    "for word in string_a.split():\n",
    "    print(word)"
   ]
  },
  {
   "cell_type": "markdown",
   "metadata": {},
   "source": [
    "Looks great! Remember that .split() by default, splits by spaces. That is the reason you have exclamations along witht the last word. .split() converts it to a list of words and hence the iteration happens over by items of list. Let's go over it once. "
   ]
  },
  {
   "cell_type": "code",
   "execution_count": 14,
   "metadata": {},
   "outputs": [
    {
     "name": "stdout",
     "output_type": "stream",
     "text": [
      "['This', 'is', 'my', 'first', 'string', 'iteration!!']\n"
     ]
    }
   ],
   "source": [
    "print(string_a.split())"
   ]
  },
  {
   "cell_type": "markdown",
   "metadata": {},
   "source": [
    "This brings us to:"
   ]
  },
  {
   "cell_type": "markdown",
   "metadata": {},
   "source": [
    "### List Iterations  \n",
    "Iterations happen over each item of the list in an order."
   ]
  },
  {
   "cell_type": "code",
   "execution_count": 15,
   "metadata": {},
   "outputs": [
    {
     "name": "stdout",
     "output_type": "stream",
     "text": [
      "This\n",
      "is\n",
      "my\n",
      "first\n",
      "list\n",
      "iteration\n"
     ]
    }
   ],
   "source": [
    "list_a = ['This','is','my','first','list','iteration']\n",
    "for item in list_a:\n",
    "    print(item)"
   ]
  },
  {
   "cell_type": "markdown",
   "metadata": {},
   "source": [
    "This is exactly what we had done with the string iteration above. Now it seems to connect. Let's do a couple of nested iterations."
   ]
  },
  {
   "cell_type": "code",
   "execution_count": 16,
   "metadata": {},
   "outputs": [
    {
     "name": "stdout",
     "output_type": "stream",
     "text": [
      "1\n",
      "2\n",
      "3\n",
      "4\n",
      "5\n",
      "6\n",
      "7\n",
      "8\n",
      "9\n"
     ]
    }
   ],
   "source": [
    "list_of_lists = [[1, 2, 3], [4, 5, 6], [7, 8, 9]]\n",
    "for list1 in list_of_lists: # iterate over each item of outer list\n",
    "    for x in list1: # iterate over each integer in this small list\n",
    "        print(x)"
   ]
  },
  {
   "cell_type": "markdown",
   "metadata": {},
   "source": [
    "You can see that the indentation keeps increasing as we get deeper into the loop. Changing the indentation will bring it inside an outer for loop."
   ]
  },
  {
   "cell_type": "code",
   "execution_count": 17,
   "metadata": {},
   "outputs": [
    {
     "name": "stdout",
     "output_type": "stream",
     "text": [
      "1\n",
      "2\n",
      "3\n",
      "[1, 2, 3]\n",
      "4\n",
      "5\n",
      "6\n",
      "[4, 5, 6]\n",
      "7\n",
      "8\n",
      "9\n",
      "[7, 8, 9]\n"
     ]
    }
   ],
   "source": [
    "list_of_lists = [[1, 2, 3], [4, 5, 6], [7, 8, 9]]\n",
    "for list1 in list_of_lists: \n",
    "    for x in list1: \n",
    "        print(x)\n",
    "    print(list1) #added this - It is a part of the upper for-loop"
   ]
  },
  {
   "cell_type": "code",
   "execution_count": 18,
   "metadata": {},
   "outputs": [
    {
     "name": "stdout",
     "output_type": "stream",
     "text": [
      "0\n",
      "1\n",
      "2\n",
      "3\n",
      "4\n",
      "5\n"
     ]
    }
   ],
   "source": [
    "#iterate using length of a list\n",
    "for i in range(len(list_a)):\n",
    "    print(i)"
   ]
  },
  {
   "cell_type": "markdown",
   "metadata": {},
   "source": [
    "### Dictionary Iteration"
   ]
  },
  {
   "cell_type": "code",
   "execution_count": 19,
   "metadata": {},
   "outputs": [
    {
     "name": "stdout",
     "output_type": "stream",
     "text": [
      "The capital of Haryana is Chandigarh\n",
      "The capital of Rajasthan is Jaipur\n",
      "The capital of Punjab is Chandigarh\n",
      "The capital of Tamil Nadu is Chennai\n",
      "The capital of Maharashtra is Mumbai\n"
     ]
    }
   ],
   "source": [
    "state_capitals = {'Haryana': 'Chandigarh', 'Rajasthan': 'Jaipur', 'Punjab': 'Chandigarh', 'Tamil Nadu': 'Chennai', 'Maharashtra': 'Mumbai'}\n",
    "\n",
    "#iterate over key-value pairs\n",
    "\n",
    "for key, val in state_capitals.items():\n",
    "    print(\"The capital of {} is {}\".format(key,val))"
   ]
  },
  {
   "cell_type": "code",
   "execution_count": 20,
   "metadata": {},
   "outputs": [
    {
     "name": "stdout",
     "output_type": "stream",
     "text": [
      "Haryana\n",
      "Rajasthan\n",
      "Punjab\n",
      "Tamil Nadu\n",
      "Maharashtra\n"
     ]
    }
   ],
   "source": [
    "#iterate over keys\n",
    "\n",
    "for a in state_capitals.keys():\n",
    "    print(a)"
   ]
  },
  {
   "cell_type": "code",
   "execution_count": 21,
   "metadata": {},
   "outputs": [
    {
     "name": "stdout",
     "output_type": "stream",
     "text": [
      "Chandigarh\n",
      "Jaipur\n",
      "Chandigarh\n",
      "Chennai\n",
      "Mumbai\n"
     ]
    }
   ],
   "source": [
    "#iterate over vals\n",
    "\n",
    "for a in state_capitals.values():\n",
    "    print(a)"
   ]
  },
  {
   "cell_type": "code",
   "execution_count": 22,
   "metadata": {},
   "outputs": [
    {
     "name": "stdout",
     "output_type": "stream",
     "text": [
      "['A', 'B', '1', '2', '3', '5', '6', '7']\n",
      "['1', '2', '3', '5', '6', '7', 'A', 'B']\n"
     ]
    }
   ],
   "source": [
    "second_dict = {'A':['1','2','3'], 'B':['5','6','7']}\n",
    "#We want a list as - 1,2,3,5,6,7,A,B\n",
    "#initialize a list\n",
    "solution = []\n",
    "for key in second_dict.keys():\n",
    "    solution.append(key)\n",
    "for val in second_dict.values(): \n",
    "    solution.extend(val) #You can also iterate over the value as it is a list and the append each item at a time\n",
    "print(solution) #dictionaries are unordered, A doesn't necessarily come before B\n",
    "print(sorted(solution))"
   ]
  },
  {
   "cell_type": "markdown",
   "metadata": {},
   "source": [
    "## Comprehensions"
   ]
  },
  {
   "cell_type": "markdown",
   "metadata": {},
   "source": [
    "### List Comprehensions"
   ]
  },
  {
   "cell_type": "markdown",
   "metadata": {},
   "source": [
    "Python makes it simple to generate a required list with a single line of code using list comprehensions. For example If i need to generate multiples of say 27 I write the code using for loop as,"
   ]
  },
  {
   "cell_type": "code",
   "execution_count": 23,
   "metadata": {},
   "outputs": [
    {
     "name": "stdout",
     "output_type": "stream",
     "text": [
      "[27, 54, 81, 108, 135, 162, 189, 216, 243, 270]\n"
     ]
    }
   ],
   "source": [
    "res = []\n",
    "for i in range(1,11):\n",
    "    x = 27*i\n",
    "    res.append(x)\n",
    "print(res)"
   ]
  },
  {
   "cell_type": "markdown",
   "metadata": {},
   "source": [
    "Since you are generating another list altogether and that is what is required, List comprehensions is a more efficient way to solve this problem."
   ]
  },
  {
   "cell_type": "code",
   "execution_count": 24,
   "metadata": {},
   "outputs": [
    {
     "data": {
      "text/plain": [
       "[27, 54, 81, 108, 135, 162, 189, 216, 243, 270]"
      ]
     },
     "execution_count": 24,
     "metadata": {},
     "output_type": "execute_result"
    }
   ],
   "source": [
    "[27*x for x in range(1,11)]"
   ]
  },
  {
   "cell_type": "markdown",
   "metadata": {},
   "source": [
    "That's it!. Only remember to enclose it in square brackets"
   ]
  },
  {
   "cell_type": "code",
   "execution_count": 25,
   "metadata": {},
   "outputs": [
    {
     "name": "stdout",
     "output_type": "stream",
     "text": [
      "['diagram', 'objective', 'assignment', 'questions', 'solutions']\n"
     ]
    }
   ],
   "source": [
    "list_of_words = [' Diagram','Objective ',' aSSIGNMENT','QueSTions. ','sOlutiONS ' ]\n",
    "\n",
    "#lets clean this up into a new list. \n",
    "clean_version = []\n",
    "\n",
    "for word in list_of_words:\n",
    "    clean_word = word.lower().strip().strip('.')\n",
    "    clean_version.append(clean_word)\n",
    "\n",
    "print(clean_version)"
   ]
  },
  {
   "cell_type": "code",
   "execution_count": 26,
   "metadata": {},
   "outputs": [
    {
     "name": "stdout",
     "output_type": "stream",
     "text": [
      "['diagram', 'objective', 'assignment', 'questions', 'solutions']\n"
     ]
    }
   ],
   "source": [
    "#use list comprehension instead\n",
    "#step 1 - use variable name of the list in which you want to store - clean_version\n",
    "#step 2 - Add square brackets - =[] \n",
    "# step 3 - Write the operation first - word.lower().strip().strip('.')\n",
    "# step 4 - write the entire for loop from start - for word in ...\n",
    "\n",
    "clean_version =[word.lower().strip().strip('.') for word in list_of_words]\n",
    "print(clean_version)"
   ]
  },
  {
   "cell_type": "markdown",
   "metadata": {},
   "source": [
    "Q. Convert the first letter of each item of the above list to upper case.  Use the conventional for loop first. Then use a list comprehension. Name the list as \"proper_version\""
   ]
  },
  {
   "cell_type": "code",
   "execution_count": 27,
   "metadata": {
    "collapsed": true
   },
   "outputs": [],
   "source": [
    "#solution"
   ]
  },
  {
   "cell_type": "markdown",
   "metadata": {},
   "source": [
    "### Dictionary Comprehension"
   ]
  },
  {
   "cell_type": "markdown",
   "metadata": {},
   "source": [
    "Similar to lists with only the only exception of using curly brackets. The iteration might require .items() or .values() or .keys() depending upon the use case. The resultant object will be a dictionary. You can iterate over lists as well and create a dictionary as an end result."
   ]
  },
  {
   "cell_type": "code",
   "execution_count": 28,
   "metadata": {},
   "outputs": [
    {
     "name": "stdout",
     "output_type": "stream",
     "text": [
      "{'Maharashtra': 'Mumbai'}\n"
     ]
    }
   ],
   "source": [
    "state_capitals = {'Haryana': 'Chandigarh', 'Rajasthan': 'Jaipur', 'Punjab': 'Chandigarh', 'Tamil Nadu': 'Chennai', 'Maharashtra': 'Mumbai'}\n",
    "\n",
    "#Let's create a new dictionary with those entries where capital starts with the same letter as the state\n",
    "new_dict ={}\n",
    "\n",
    "for key,val in state_capitals.items():\n",
    "    if key[0] == val[0]: #check first letter\n",
    "        new_dict[key] = val # create new entry\n",
    "        \n",
    "print(new_dict)\n",
    "        "
   ]
  },
  {
   "cell_type": "code",
   "execution_count": 29,
   "metadata": {},
   "outputs": [
    {
     "name": "stdout",
     "output_type": "stream",
     "text": [
      "{'Maharashtra': 'Mumbai'}\n"
     ]
    }
   ],
   "source": [
    "#dict comprehension\n",
    "#step 1 - use variable name of the list in which you want to store - new_dict\n",
    "#step 2 - Add curly brackets - = {}\n",
    "# step 3 - Write the operation first - k:v\n",
    "# step 4 - write the entire for loop from start - for word in ... with if statement at the end\n",
    "new_dict = {k:v for k,v in state_capitals.items() if k[0] == v[0]}\n",
    "print(new_dict)"
   ]
  },
  {
   "cell_type": "markdown",
   "metadata": {},
   "source": [
    "Let's try one last exercise. If we have a list of numbers and we want to create a dictionar of that number with the key and its val to be three times its value. This should only be done if the value is even."
   ]
  },
  {
   "cell_type": "code",
   "execution_count": 30,
   "metadata": {},
   "outputs": [
    {
     "name": "stdout",
     "output_type": "stream",
     "text": [
      "{2: 6, 8: 24, 12: 36, 56: 168, 90: 270}\n"
     ]
    }
   ],
   "source": [
    "list_of_nums = [1,2,3,5,8,12,56,79,90]\n",
    "\n",
    "dictionary_a = {num:3*num for num in list_of_nums if 3*num%2==0}\n",
    "print(dictionary_a)"
   ]
  },
  {
   "cell_type": "markdown",
   "metadata": {},
   "source": [
    "Confused? Let's do it the normal way"
   ]
  },
  {
   "cell_type": "code",
   "execution_count": 31,
   "metadata": {},
   "outputs": [
    {
     "name": "stdout",
     "output_type": "stream",
     "text": [
      "{2: 6, 8: 24, 12: 36, 56: 168, 90: 270}\n"
     ]
    }
   ],
   "source": [
    "dictionary_b={}\n",
    "for num in list_of_nums:\n",
    "    if 3*num%2==0:\n",
    "        dictionary_b[num] = 3*num\n",
    "print(dictionary_b)\n",
    "        "
   ]
  },
  {
   "cell_type": "markdown",
   "metadata": {},
   "source": [
    "Questions:\n",
    "    \n",
    "Q1.  \n",
    "With a given integral number n, write a program to generate a dictionary that contains (i, i*i) such that is an integral number between 1 and n (both included). and then the program should print the dictionary.\n",
    "Suppose the following input is supplied to the program:\n",
    "8\n",
    "Then, the output should be:\n",
    "{1: 1, 2: 4, 3: 9, 4: 16, 5: 25, 6: 36, 7: 49, 8: 64}\n",
    "\n",
    "\n",
    "Q2.  \n",
    "Write a program which accepts a sequence of comma-separated numbers from console and generate a list and a tuple which contains every number.\n",
    "Suppose the following input is supplied to the program:\n",
    "34,67,55,33,12,98\n",
    "Then, the output should be:\n",
    "['34', '67', '55', '33', '12', '98']\n",
    "('34', '67', '55', '33', '12', '98')\n",
    "\n",
    "\n",
    "Q3.  \n",
    "Write a program that accepts a comma separated sequence of words as input and prints the words in a comma-separated sequence after sorting them alphabetically.\n",
    "Suppose the following input is supplied to the program:\n",
    "without,hello,bag,world\n",
    "Then, the output should be:\n",
    "bag,hello,without,world\n",
    "\n",
    "Q4.  \n",
    "Write a program, which will find all such numbers between 1000 and 3000 (both included) such that each digit of the number is an even number.\n",
    "The numbers obtained should be printed in a comma-separated sequence on a single line.\n",
    "Hint: Convert to string then subset by index and check for divisibility by casting to int again.\n",
    "\n",
    "Q5.  \n",
    "Write a program that accepts a sentence and calculate the number of letters and digits.\n",
    "Suppose the following input is supplied to the program:\n",
    "hello world! 123\n",
    "Then, the output should be:\n",
    "LETTERS 10\n",
    "DIGITS 3\n",
    "\n",
    "Q6.  \n",
    "\"99 Bottles of Beer\" is a traditional song in the United States and Canada. It is popular to sing on long trips, as it has a very repetitive format which is easy to memorize, and can take a long time to sing. The song's simple lyrics are as follows:\n",
    "\n",
    "**99 bottles of beer on the wall, 99 bottles of beer.  \n",
    "Take one down, pass it around, 98 bottles of beer on the wall.**\n",
    "\n",
    "The same verse is repeated, each time with one fewer bottle. The song is completed when the singer or singers reach zero.\n",
    "Your task here is write a Python program capable of generating all the verses of the song.\n",
    "\n",
    "Q7.  \n",
    "A pangram is a sentence that contains all the letters of the English alphabet at least once, for example: The quick brown fox jumps over the lazy dog. Your task here is to write a function to check a sentence to see if it is a pangram or not.  \n"
   ]
  },
  {
   "cell_type": "markdown",
   "metadata": {},
   "source": [
    "## Solutions Below"
   ]
  },
  {
   "cell_type": "code",
   "execution_count": null,
   "metadata": {
    "collapsed": true
   },
   "outputs": [],
   "source": []
  },
  {
   "cell_type": "code",
   "execution_count": null,
   "metadata": {
    "collapsed": true
   },
   "outputs": [],
   "source": []
  }
 ],
 "metadata": {
  "kernelspec": {
   "display_name": "Python 3",
   "language": "python",
   "name": "python3"
  },
  "language_info": {
   "codemirror_mode": {
    "name": "ipython",
    "version": 3
   },
   "file_extension": ".py",
   "mimetype": "text/x-python",
   "name": "python",
   "nbconvert_exporter": "python",
   "pygments_lexer": "ipython3",
   "version": "3.6.1"
  }
 },
 "nbformat": 4,
 "nbformat_minor": 1
}
